{
 "cells": [
  {
   "cell_type": "code",
   "execution_count": 3,
   "metadata": {},
   "outputs": [
    {
     "name": "stdout",
     "output_type": "stream",
     "text": [
      "2.3.0\n"
     ]
    }
   ],
   "source": [
    "import tensorflow as tf\n",
    "print(tf.__version__)"
   ]
  },
  {
   "cell_type": "code",
   "execution_count": 4,
   "metadata": {},
   "outputs": [
    {
     "name": "stdout",
     "output_type": "stream",
     "text": [
      "Model: \"sequential\"\n",
      "_________________________________________________________________\n",
      "Layer (type)                 Output Shape              Param #   \n",
      "=================================================================\n",
      "conv2d (Conv2D)              (None, 26, 26, 32)        320       \n",
      "_________________________________________________________________\n",
      "max_pooling2d (MaxPooling2D) (None, 13, 13, 32)        0         \n",
      "_________________________________________________________________\n",
      "conv2d_1 (Conv2D)            (None, 11, 11, 32)        9248      \n",
      "_________________________________________________________________\n",
      "max_pooling2d_1 (MaxPooling2 (None, 5, 5, 32)          0         \n",
      "_________________________________________________________________\n",
      "flatten (Flatten)            (None, 800)               0         \n",
      "_________________________________________________________________\n",
      "dense (Dense)                (None, 10)                8010      \n",
      "=================================================================\n",
      "Total params: 17,578\n",
      "Trainable params: 17,578\n",
      "Non-trainable params: 0\n",
      "_________________________________________________________________\n"
     ]
    }
   ],
   "source": [
    "mnist = tf.keras.datasets.mnist\n",
    "# Load its data into training and test vectors\n",
    "(x_train, y_train),(x_test, y_test) = mnist.load_data()\n",
    "# Normalize the data\n",
    "x_train, x_test = x_train / 255.0, x_test / 255.0\n",
    "x_train = x_train[..., tf.newaxis]\n",
    "x_test = x_test[..., tf.newaxis]\n",
    "\n",
    "# Collect feature size info\n",
    "imgSize0=len(x_train[0])\n",
    "imgSize1=len(x_train[0][0])\n",
    "numPixels=imgSize0*imgSize1\n",
    "numTrainImages=len(x_train)\n",
    "featureShape=(None, imgSize0,imgSize1,1)\n",
    "\n",
    "# Clearup everything before running\n",
    "tf.keras.backend.clear_session()\n",
    "# Create model\n",
    "model = tf.keras.Sequential([\n",
    "    tf.keras.layers.Conv2D(32, 3, activation='relu', input_shape=(28, 28, 1)\n",
    "    ),\n",
    "    tf.keras.layers.MaxPooling2D(),\n",
    "    tf.keras.layers.Conv2D(32, 3, activation='relu',),\n",
    "    tf.keras.layers.MaxPooling2D(),\n",
    "    tf.keras.layers.Flatten(),\n",
    "    tf.keras.layers.Dense(10, activation='softmax')\n",
    "])\n",
    "# Build model and print summary\n",
    "model.build(input_shape=featureShape)\n",
    "model.summary()\n",
    "model.compile(optimizer='adam', loss='sparse_categorical_crossentropy', metrics=['accuracy'])"
   ]
  },
  {
   "cell_type": "code",
   "execution_count": 5,
   "metadata": {},
   "outputs": [
    {
     "name": "stdout",
     "output_type": "stream",
     "text": [
      "Epoch 1/2\n",
      "1875/1875 [==============================] - 19s 10ms/step - loss: 0.1882 - accuracy: 0.9440\n",
      "Epoch 2/2\n",
      "1875/1875 [==============================] - 19s 10ms/step - loss: 0.0633 - accuracy: 0.9806\n"
     ]
    }
   ],
   "source": [
    "history = model.fit(x_train, y_train, epochs=2)"
   ]
  },
  {
   "cell_type": "code",
   "execution_count": 6,
   "metadata": {},
   "outputs": [
    {
     "name": "stdout",
     "output_type": "stream",
     "text": [
      "WARNING:tensorflow:From /usr/local/lib/python3.8/site-packages/tensorflow/python/training/tracking/tracking.py:111: Model.state_updates (from tensorflow.python.keras.engine.training) is deprecated and will be removed in a future version.\n",
      "Instructions for updating:\n",
      "This property should not be used in TensorFlow 2.0, as updates are applied automatically.\n",
      "WARNING:tensorflow:From /usr/local/lib/python3.8/site-packages/tensorflow/python/training/tracking/tracking.py:111: Layer.updates (from tensorflow.python.keras.engine.base_layer) is deprecated and will be removed in a future version.\n",
      "Instructions for updating:\n",
      "This property should not be used in TensorFlow 2.0, as updates are applied automatically.\n",
      "INFO:tensorflow:Assets written to: /var/folders/mv/1txqzr191f1b8gyq0sjcwyth0000gn/T/tmph8zo39eg/assets\n"
     ]
    }
   ],
   "source": [
    "\n",
    "converter = tf.lite.TFLiteConverter.from_keras_model(model)\n",
    "\n",
    "def representative_data_gen():\n",
    "  for input_value in tf.data.Dataset.from_tensor_slices(x_train.astype('float32')).batch(1).take(100):\n",
    "      yield [input_value]   \n",
    "# Set the optimization flag.\n",
    "converter.optimizations = [tf.lite.Optimize.DEFAULT]\n",
    "# Enforce full-int8 quantization (except inputs/outputs which are always float)\n",
    "converter.target_spec.supported_ops = [tf.lite.OpsSet.TFLITE_BUILTINS_INT8]\n",
    "# Provide a representative dataset to ensure we quantize correctly.\n",
    "converter.representative_dataset = representative_data_gen\n",
    "model_tflite = converter.convert()\n",
    "\n",
    "# tflite_model = converter.convert()\n",
    "model_length = open(\"model.tflite\", \"wb\").write(model_tflite)"
   ]
  },
  {
   "cell_type": "code",
   "execution_count": 7,
   "metadata": {},
   "outputs": [
    {
     "name": "stdout",
     "output_type": "stream",
     "text": [
      "23632\n"
     ]
    }
   ],
   "source": [
    "print(model_length)"
   ]
  },
  {
   "cell_type": "code",
   "execution_count": 8,
   "metadata": {},
   "outputs": [],
   "source": [
    "!xxd -i 'model.tflite' > 'model.cc'"
   ]
  },
  {
   "cell_type": "code",
   "execution_count": null,
   "metadata": {},
   "outputs": [],
   "source": []
  },
  {
   "cell_type": "code",
   "execution_count": 9,
   "metadata": {},
   "outputs": [],
   "source": [
    "#  Read in the file\n",
    "with open('model.cc', 'r') as file :\n",
    "  filedata = file.read()\n",
    "\n",
    "#include \"model.h\"\n",
    "# Replace the target string\n",
    "filedata = filedata.replace('unsigned char', 'alignas(16) const unsigned char' )\n",
    "filedata = filedata.replace('unsigned int', 'const int' )\n",
    "filedata = '#include \"model.h\" \\n \\n' \\\n",
    "    + \"// Keep model aligned to 8 bytes to guarantee aligned 64-bit accesses. \\n\\n\" \\\n",
    "    + filedata\n",
    "# Write the file out again\n",
    "with open('model.cc', 'w') as file:\n",
    "  file.write(filedata)"
   ]
  },
  {
   "cell_type": "code",
   "execution_count": null,
   "metadata": {},
   "outputs": [],
   "source": []
  },
  {
   "cell_type": "code",
   "execution_count": 10,
   "metadata": {},
   "outputs": [],
   "source": [
    "read_h_file = open('model.h', 'r') \n",
    "old_lines = read_h_file.readlines()\n",
    "new_lines = []    \n",
    "for line in old_lines:\n",
    "    if \"model_len\" in line:\n",
    "        new_lines.append(\"const int model_len = {};\".format(model_length) )\n",
    "    else:\n",
    "        new_lines.append(line)\n",
    "# print (new_lines)\n",
    "read_h_file.close()\n",
    "\n",
    "write_header_file = open('model.h', 'w') \n",
    "write_header_file.writelines(new_lines)\n",
    "write_header_file.close()"
   ]
  },
  {
   "cell_type": "code",
   "execution_count": 11,
   "metadata": {},
   "outputs": [
    {
     "name": "stdout",
     "output_type": "stream",
     "text": [
      "['/* Copyright 2020 The TensorFlow Authors. All Rights Reserved.\\n', '\\n', 'Licensed under the Apache License, Version 2.0 (the \"License\");\\n', 'you may not use this file except in compliance with the License.\\n', 'You may obtain a copy of the License at\\n', '\\n', '    http://www.apache.org/licenses/LICENSE-2.0\\n', '\\n', 'Unless required by applicable law or agreed to in writing, software\\n', 'distributed under the License is distributed on an \"AS IS\" BASIS,\\n', 'WITHOUT WARRANTIES OR CONDITIONS OF ANY KIND, either express or implied.\\n', 'See the License for the specific language governing permissions and\\n', 'limitations under the License.\\n', '==============================================================================*/\\n', '\\n', '// Automatically created from a TensorFlow Lite flatbuffer using the command:\\n', '// xxd -i model.tflite > model.cc\\n', '\\n', '// This is a standard TensorFlow Lite model file that has been converted into a\\n', '// C data array, so it can be easily compiled into a binary for devices that\\n', \"// don't have a file system.\\n\", '\\n', '// See train/README.md for a full description of the creation process.\\n', '\\n', '#ifndef MODEL_H_\\n', '#define MODEL_H_\\n', '\\n', 'extern const unsigned char model_tflite[];\\n', 'const int model_len = 23632;', '\\n', '\\n', '\\n', '\\n', '\\n', '\\n', '\\n', '\\n', '\\n', '\\n', '\\n', '\\n', '\\n', '\\n', '\\n', '#endif  \\n']\n"
     ]
    }
   ],
   "source": [
    "# print(new_lines)"
   ]
  },
  {
   "cell_type": "code",
   "execution_count": null,
   "metadata": {},
   "outputs": [],
   "source": []
  },
  {
   "cell_type": "code",
   "execution_count": null,
   "metadata": {},
   "outputs": [],
   "source": []
  }
 ],
 "metadata": {
  "kernelspec": {
   "display_name": "Python 3",
   "language": "python",
   "name": "python3"
  },
  "language_info": {
   "codemirror_mode": {
    "name": "ipython",
    "version": 3
   },
   "file_extension": ".py",
   "mimetype": "text/x-python",
   "name": "python",
   "nbconvert_exporter": "python",
   "pygments_lexer": "ipython3",
   "version": "3.8.6"
  }
 },
 "nbformat": 4,
 "nbformat_minor": 4
}
