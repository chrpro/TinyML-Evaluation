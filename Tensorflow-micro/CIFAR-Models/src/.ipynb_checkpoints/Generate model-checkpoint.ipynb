{
 "cells": [
  {
   "cell_type": "code",
   "execution_count": 27,
   "metadata": {},
   "outputs": [
    {
     "name": "stdout",
     "output_type": "stream",
     "text": [
      "Shape before one-hot encoding:  (50000, 1)\n",
      "Shape after one-hot encoding:  (50000, 10)\n"
     ]
    }
   ],
   "source": [
    "import tensorflow as tf\n",
    "from keras.datasets import cifar10\n",
    "from  keras.utils import np_utils\n",
    "\n",
    "\n",
    "# loading the dataset\n",
    "(X_train, y_train), (X_test, y_test) = cifar10.load_data()\n",
    "\n",
    "# # building the input vector from the 32x32 pixels\n",
    "X_train = X_train.reshape(X_train.shape[0], 32, 32, 3)\n",
    "X_test = X_test.reshape(X_test.shape[0], 32, 32, 3)\n",
    "X_train = X_train.astype('float32')\n",
    "X_test = X_test.astype('float32')\n",
    "\n",
    "# normalizing the data to help with the training\n",
    "X_train /= 255\n",
    "X_test /= 255\n",
    "\n",
    "# one-hot encoding using keras' numpy-related utilities\n",
    "n_classes = 10\n",
    "print(\"Shape before one-hot encoding: \", y_train.shape)\n",
    "Y_train = np_utils.to_categorical(y_train, n_classes)\n",
    "Y_test = np_utils.to_categorical(y_test, n_classes)\n",
    "print(\"Shape after one-hot encoding: \", Y_train.shape)\n"
   ]
  },
  {
   "cell_type": "code",
   "execution_count": 28,
   "metadata": {},
   "outputs": [
    {
     "name": "stdout",
     "output_type": "stream",
     "text": [
      "[0. 0. 0. 0. 0. 0. 0. 0. 1. 0.]\n"
     ]
    }
   ],
   "source": [
    "print(Y_test[1])"
   ]
  },
  {
   "cell_type": "code",
   "execution_count": 39,
   "metadata": {},
   "outputs": [
    {
     "name": "stdout",
     "output_type": "stream",
     "text": [
      "Model: \"sequential_6\"\n",
      "_________________________________________________________________\n",
      "Layer (type)                 Output Shape              Param #   \n",
      "=================================================================\n",
      "conv2d_10 (Conv2D)           (None, 30, 30, 32)        896       \n",
      "_________________________________________________________________\n",
      "max_pooling2d_10 (MaxPooling (None, 15, 15, 32)        0         \n",
      "_________________________________________________________________\n",
      "conv2d_11 (Conv2D)           (None, 13, 13, 32)        9248      \n",
      "_________________________________________________________________\n",
      "max_pooling2d_11 (MaxPooling (None, 6, 6, 32)          0         \n",
      "_________________________________________________________________\n",
      "flatten_6 (Flatten)          (None, 1152)              0         \n",
      "_________________________________________________________________\n",
      "dense_6 (Dense)              (None, 10)                11530     \n",
      "=================================================================\n",
      "Total params: 21,674\n",
      "Trainable params: 21,674\n",
      "Non-trainable params: 0\n",
      "_________________________________________________________________\n"
     ]
    }
   ],
   "source": [
    "model = tf.keras.Sequential([\n",
    "    tf.keras.layers.Conv2D(32, (3,3), activation='relu', input_shape=(32, 32, 3)),\n",
    "    tf.keras.layers.MaxPooling2D(),\n",
    "    tf.keras.layers.Conv2D(32, 3, activation='relu',),\n",
    "    tf.keras.layers.MaxPooling2D(),\n",
    "    tf.keras.layers.Flatten(),\n",
    "    tf.keras.layers.Dense(10, activation='softmax')\n",
    "])\n",
    "model.compile(optimizer='adam', loss='categorical_crossentropy', metrics=['accuracy'])\n",
    "\n",
    "\n",
    "model.summary()\n",
    "# model.save('cifar.keras')"
   ]
  },
  {
   "cell_type": "code",
   "execution_count": null,
   "metadata": {},
   "outputs": [
    {
     "name": "stdout",
     "output_type": "stream",
     "text": [
      "Epoch 1/40\n",
      "196/196 [==============================] - 20s 101ms/step - loss: 0.7659 - accuracy: 0.7365 - val_loss: 0.9474 - val_accuracy: 0.6803\n",
      "Epoch 2/40\n",
      "196/196 [==============================] - 21s 105ms/step - loss: 0.7650 - accuracy: 0.7359 - val_loss: 0.9208 - val_accuracy: 0.6882\n",
      "Epoch 3/40\n",
      "196/196 [==============================] - 22s 111ms/step - loss: 0.7523 - accuracy: 0.7407 - val_loss: 0.9382 - val_accuracy: 0.6854\n",
      "Epoch 4/40\n",
      "196/196 [==============================] - 20s 103ms/step - loss: 0.7521 - accuracy: 0.7427 - val_loss: 0.9273 - val_accuracy: 0.6893\n",
      "Epoch 5/40\n",
      "196/196 [==============================] - 20s 104ms/step - loss: 0.7466 - accuracy: 0.7421 - val_loss: 0.9472 - val_accuracy: 0.6814\n",
      "Epoch 6/40\n",
      "196/196 [==============================] - 21s 105ms/step - loss: 0.7494 - accuracy: 0.7410 - val_loss: 0.9182 - val_accuracy: 0.6939\n",
      "Epoch 7/40\n",
      "196/196 [==============================] - 21s 108ms/step - loss: 0.7483 - accuracy: 0.7414 - val_loss: 0.9211 - val_accuracy: 0.6897\n",
      "Epoch 8/40\n",
      "196/196 [==============================] - 22s 113ms/step - loss: 0.7429 - accuracy: 0.7445 - val_loss: 0.9253 - val_accuracy: 0.6884\n",
      "Epoch 9/40\n",
      "196/196 [==============================] - 21s 107ms/step - loss: 0.7422 - accuracy: 0.7456 - val_loss: 0.9175 - val_accuracy: 0.6914\n",
      "Epoch 10/40\n",
      "196/196 [==============================] - 22s 110ms/step - loss: 0.7292 - accuracy: 0.7489 - val_loss: 0.9135 - val_accuracy: 0.6912\n",
      "Epoch 11/40\n",
      "196/196 [==============================] - 21s 110ms/step - loss: 0.7257 - accuracy: 0.7503 - val_loss: 0.9398 - val_accuracy: 0.6832\n",
      "Epoch 12/40\n",
      "196/196 [==============================] - 22s 115ms/step - loss: 0.7255 - accuracy: 0.7503 - val_loss: 0.9262 - val_accuracy: 0.6933\n",
      "Epoch 13/40\n",
      "196/196 [==============================] - 23s 116ms/step - loss: 0.7200 - accuracy: 0.7522 - val_loss: 0.9137 - val_accuracy: 0.6929\n",
      "Epoch 14/40\n",
      "196/196 [==============================] - 24s 122ms/step - loss: 0.7203 - accuracy: 0.7520 - val_loss: 0.9124 - val_accuracy: 0.6947\n",
      "Epoch 15/40\n",
      "196/196 [==============================] - 24s 122ms/step - loss: 0.7170 - accuracy: 0.7541 - val_loss: 0.9077 - val_accuracy: 0.6976\n",
      "Epoch 16/40\n",
      "196/196 [==============================] - 24s 124ms/step - loss: 0.7131 - accuracy: 0.7565 - val_loss: 0.9307 - val_accuracy: 0.6930\n",
      "Epoch 17/40\n",
      "196/196 [==============================] - 26s 135ms/step - loss: 0.7067 - accuracy: 0.7563 - val_loss: 0.9248 - val_accuracy: 0.6892\n",
      "Epoch 18/40\n",
      " 56/196 [=======>......................] - ETA: 17s - loss: 0.7074 - accuracy: 0.7598"
     ]
    }
   ],
   "source": [
    "history = model.fit(X_train, Y_train, batch_size=64, epochs=40, validation_data=(X_test, Y_test))\n"
   ]
  },
  {
   "cell_type": "code",
   "execution_count": null,
   "metadata": {},
   "outputs": [],
   "source": []
  },
  {
   "cell_type": "code",
   "execution_count": 34,
   "metadata": {},
   "outputs": [
    {
     "name": "stdout",
     "output_type": "stream",
     "text": [
      "INFO:tensorflow:Assets written to: /var/folders/mv/1txqzr191f1b8gyq0sjcwyth0000gn/T/tmpdkyllo6l/assets\n"
     ]
    },
    {
     "name": "stderr",
     "output_type": "stream",
     "text": [
      "INFO:tensorflow:Assets written to: /var/folders/mv/1txqzr191f1b8gyq0sjcwyth0000gn/T/tmpdkyllo6l/assets\n"
     ]
    }
   ],
   "source": [
    "converter = tf.lite.TFLiteConverter.from_keras_model(model)\n",
    "\n",
    "def representative_data_gen():\n",
    "  for input_value in tf.data.Dataset.from_tensor_slices(X_train.astype('float32')).batch(1).take(100):\n",
    "      yield [input_value]   \n",
    "# Set the optimization flag.\n",
    "converter.optimizations = [tf.lite.Optimize.DEFAULT]\n",
    "# Enforce full-int8 quantization (except inputs/outputs which are always float)\n",
    "converter.target_spec.supported_ops = [tf.lite.OpsSet.TFLITE_BUILTINS_INT8]\n",
    "# Provide a representative dataset to ensure we quantize correctly.\n",
    "converter.representative_dataset = representative_data_gen\n",
    "model_tflite = converter.convert()\n",
    "\n",
    "# tflite_model = converter.convert()\n",
    "model_length = open(\"model.tflite\", \"wb\").write(model_tflite)"
   ]
  },
  {
   "cell_type": "code",
   "execution_count": 35,
   "metadata": {},
   "outputs": [],
   "source": [
    "!xxd -i 'model.tflite' > 'model.cc'"
   ]
  },
  {
   "cell_type": "code",
   "execution_count": null,
   "metadata": {},
   "outputs": [],
   "source": []
  },
  {
   "cell_type": "code",
   "execution_count": 36,
   "metadata": {},
   "outputs": [],
   "source": [
    "#  Read in the file\n",
    "with open('model.cc', 'r') as file :\n",
    "  filedata = file.read()\n",
    "\n",
    "#include \"model.h\"\n",
    "# Replace the target string\n",
    "filedata = filedata.replace('unsigned char', 'alignas(16) const unsigned char' )\n",
    "filedata = filedata.replace('unsigned int', 'const int' )\n",
    "filedata = '#include \"model.h\" \\n \\n' \\\n",
    "    + \"// Keep model aligned to 8 bytes to guarantee aligned 64-bit accesses. \\n\\n\" \\\n",
    "    + filedata\n",
    "# Write the file out again\n",
    "with open('model.cc', 'w') as file:\n",
    "  file.write(filedata)"
   ]
  },
  {
   "cell_type": "code",
   "execution_count": null,
   "metadata": {},
   "outputs": [],
   "source": []
  },
  {
   "cell_type": "code",
   "execution_count": 37,
   "metadata": {},
   "outputs": [],
   "source": [
    "read_h_file = open('model.h', 'r') \n",
    "old_lines = read_h_file.readlines()\n",
    "new_lines = []    \n",
    "for line in old_lines:\n",
    "    if \"model_len\" in line:\n",
    "        new_lines.append(\"const int model_len = {};\".format(model_length) )\n",
    "    else:\n",
    "        new_lines.append(line)\n",
    "# print (new_lines)\n",
    "read_h_file.close()\n",
    "\n",
    "write_header_file = open('model.h', 'w') \n",
    "write_header_file.writelines(new_lines)\n",
    "write_header_file.close()"
   ]
  },
  {
   "cell_type": "code",
   "execution_count": null,
   "metadata": {},
   "outputs": [],
   "source": []
  },
  {
   "cell_type": "code",
   "execution_count": null,
   "metadata": {},
   "outputs": [],
   "source": []
  },
  {
   "cell_type": "code",
   "execution_count": null,
   "metadata": {},
   "outputs": [],
   "source": []
  },
  {
   "cell_type": "code",
   "execution_count": null,
   "metadata": {},
   "outputs": [],
   "source": []
  },
  {
   "cell_type": "code",
   "execution_count": null,
   "metadata": {},
   "outputs": [],
   "source": []
  }
 ],
 "metadata": {
  "kernelspec": {
   "display_name": "Python 3",
   "language": "python",
   "name": "python3"
  },
  "language_info": {
   "codemirror_mode": {
    "name": "ipython",
    "version": 3
   },
   "file_extension": ".py",
   "mimetype": "text/x-python",
   "name": "python",
   "nbconvert_exporter": "python",
   "pygments_lexer": "ipython3",
   "version": "3.8.6"
  }
 },
 "nbformat": 4,
 "nbformat_minor": 4
}
