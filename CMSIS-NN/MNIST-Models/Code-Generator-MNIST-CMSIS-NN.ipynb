{
 "cells": [
  {
   "cell_type": "code",
   "execution_count": 1,
   "metadata": {},
   "outputs": [
    {
     "name": "stdout",
     "output_type": "stream",
     "text": [
      "2.4.0\n"
     ]
    }
   ],
   "source": [
    "import tensorflow as tf\n",
    "print(tf.keras.__version__)"
   ]
  },
  {
   "cell_type": "markdown",
   "metadata": {},
   "source": [
    "# KERAS 2 CMSIS\n",
    "\n"
   ]
  },
  {
   "cell_type": "code",
   "execution_count": 2,
   "metadata": {},
   "outputs": [
    {
     "name": "stdout",
     "output_type": "stream",
     "text": [
      "Epoch 1/10\n",
      "1875/1875 [==============================] - 20s 11ms/step - loss: 0.1865 - accuracy: 0.9454\n",
      "Epoch 2/10\n",
      "1875/1875 [==============================] - 24s 13ms/step - loss: 0.0622 - accuracy: 0.9809\n",
      "Epoch 3/10\n",
      "1875/1875 [==============================] - 19s 10ms/step - loss: 0.0470 - accuracy: 0.9858\n",
      "Epoch 4/10\n",
      "1875/1875 [==============================] - 19s 10ms/step - loss: 0.0361 - accuracy: 0.9888\n",
      "Epoch 5/10\n",
      "1875/1875 [==============================] - 19s 10ms/step - loss: 0.0292 - accuracy: 0.9914\n",
      "Epoch 6/10\n",
      "1875/1875 [==============================] - 19s 10ms/step - loss: 0.0239 - accuracy: 0.9921\n",
      "Epoch 7/10\n",
      "1875/1875 [==============================] - 19s 10ms/step - loss: 0.0213 - accuracy: 0.9934\n",
      "Epoch 8/10\n",
      "1875/1875 [==============================] - 20s 11ms/step - loss: 0.0177 - accuracy: 0.9945\n",
      "Epoch 9/10\n",
      "1875/1875 [==============================] - 19s 10ms/step - loss: 0.0150 - accuracy: 0.9953\n",
      "Epoch 10/10\n",
      "1875/1875 [==============================] - 19s 10ms/step - loss: 0.0137 - accuracy: 0.9956\n",
      "313/313 [==============================] - 1s 3ms/step - loss: 0.0343 - accuracy: 0.9894\n",
      "Model: \"sequential\"\n",
      "_________________________________________________________________\n",
      "Layer (type)                 Output Shape              Param #   \n",
      "=================================================================\n",
      "conv2d (Conv2D)              (None, 26, 26, 32)        320       \n",
      "_________________________________________________________________\n",
      "max_pooling2d (MaxPooling2D) (None, 13, 13, 32)        0         \n",
      "_________________________________________________________________\n",
      "conv2d_1 (Conv2D)            (None, 11, 11, 32)        9248      \n",
      "_________________________________________________________________\n",
      "max_pooling2d_1 (MaxPooling2 (None, 5, 5, 32)          0         \n",
      "_________________________________________________________________\n",
      "flatten (Flatten)            (None, 800)               0         \n",
      "_________________________________________________________________\n",
      "dense (Dense)                (None, 10)                8010      \n",
      "=================================================================\n",
      "Total params: 17,578\n",
      "Trainable params: 17,578\n",
      "Non-trainable params: 0\n",
      "_________________________________________________________________\n"
     ]
    }
   ],
   "source": [
    "import tensorflow as tf\n",
    "\n",
    "\n",
    "mnist = tf.keras.datasets.mnist\n",
    "\n",
    "(x_train, y_train), (x_test, y_test) = mnist.load_data()\n",
    "x_train, x_test = x_train / 255.0, x_test / 255.0\n",
    "\n",
    "# Add a channels dimension\n",
    "x_train = x_train[..., tf.newaxis]\n",
    "x_test = x_test[..., tf.newaxis]\n",
    "\n",
    "model = tf.keras.Sequential([\n",
    "    tf.keras.layers.Conv2D(32, 3, activation='relu', input_shape=(28, 28, 1) ),\n",
    "    tf.keras.layers.MaxPooling2D(),\n",
    "    tf.keras.layers.Conv2D(32, 3, activation='relu',),\n",
    "    tf.keras.layers.MaxPooling2D(),\n",
    "    tf.keras.layers.Flatten(),\n",
    "    tf.keras.layers.Dense(10, activation='softmax')\n",
    "])\n",
    "\n",
    "model.compile(optimizer='adam', loss='sparse_categorical_crossentropy', metrics=['accuracy'])\n",
    "model.fit(x_train, y_train, epochs=10)\n",
    "model.evaluate(x_test, y_test)\n",
    "model.summary()\n",
    "model.save('mnist.keras')\n"
   ]
  },
  {
   "cell_type": "code",
   "execution_count": 3,
   "metadata": {},
   "outputs": [
    {
     "data": {
      "image/png": "[encoded data removed]",
      "text/plain": [
       "<IPython.core.display.Image object>"
      ]
     },
     "execution_count": 3,
     "metadata": {},
     "output_type": "execute_result"
    }
   ],
   "source": [
    "from keras.utils import plot_model\n",
    "plot_model(model,\n",
    "    show_layer_names=False, show_shapes=True, rankdir='LR', expand_nested=True, to_file='model.png')"
   ]
  },
  {
   "cell_type": "markdown",
   "metadata": {},
   "source": [
    "# Generate code in c for cmsis"
   ]
  },
  {
   "cell_type": "code",
   "execution_count": 4,
   "metadata": {},
   "outputs": [],
   "source": [
    "import keras as k\n",
    "import numpy as np\n",
    "\n"
   ]
  },
  {
   "cell_type": "code",
   "execution_count": 5,
   "metadata": {},
   "outputs": [
    {
     "name": "stdout",
     "output_type": "stream",
     "text": [
      "Write weights and net parameters into:keras-weights.h\n",
      "(3, 3, 1, 32)\n",
      "(32,)\n",
      "(3, 3, 32, 32)\n",
      "(32,)\n",
      "(800, 10)\n",
      "(10,)\n"
     ]
    }
   ],
   "source": [
    "#This is for fast quantization! Please check more advance methods\n",
    "#To improve: you need to refine the activations of each layer!\n",
    "\n",
    "fp = 'keras-weights.h'\n",
    "print('Write weights and net parameters into:' + fp)\n",
    "search_range=3\n",
    "\n",
    "with open(fp, 'w') as f:\n",
    "    wt_int_bits={}\n",
    "    wt_dec_bits={}\n",
    "    for layer in model.layers:\n",
    "\n",
    "        weightsArray = layer.get_weights()\n",
    "\n",
    "        write_name = layer.name.upper()\n",
    "        \n",
    "        idx =0\n",
    "        bias = '_WT'\n",
    "        for weight in weightsArray:\n",
    "            print(weight.shape)\n",
    "            #Find min and max of w's\n",
    "            w_max = weight.max()\n",
    "            w_min = weight.min() \n",
    "            \n",
    "            int_bits = int(np.ceil(np.log2(max(abs(w_min),abs(w_max)))))\n",
    "            frac_bits = 7 - int_bits#remaining bits are fractional bits (1-bit for sign)\n",
    "\n",
    "\n",
    "            #floating point weights are scaled and rounded to [-128,127], which are used in \n",
    "            quant_weight = np.clip(np.round(weight*(2**frac_bits)), -128, 127)\n",
    "\n",
    "    \n",
    "            f.write('#define '+write_name+bias+' {')\n",
    "            np.transpose(quant_weight).tofile(\n",
    "                f, sep=\", \", format=\"%d\")\n",
    "            f.write('}\\n')\n",
    "            if 'BIAS' in bias:\n",
    "                f.write('#define '+write_name+'_BIAS_LSHIFT '+str(frac_bits)+'\\n')\n",
    "            else:\n",
    "                f.write('#define '+write_name+'_OUT_RSHIFT '+str(frac_bits)+'\\n')\n",
    "            bias ='_BIAS'\n"
   ]
  },
  {
   "cell_type": "code",
   "execution_count": 6,
   "metadata": {},
   "outputs": [
    {
     "name": "stdout",
     "output_type": "stream",
     "text": [
      "Generating parameter file: keras-parameters.h\n"
     ]
    }
   ],
   "source": [
    "file_name = 'keras-parameters.h'\n",
    "print('Generating parameter file: '+file_name)\n",
    "f=open(file_name,'w')\n",
    "\n",
    "for layer in model.layers:\n",
    "    layer_no=model.layers.index(layer)\n",
    "    if(layer_no>0):\n",
    "        prev_layer=model.layers[layer_no-1]\n",
    "\n",
    "    if layer.__class__.__name__=='Conv2D':\n",
    "        LAYER=layer.name.upper()\n",
    "        f.write(\"#define \"+LAYER+\"_IN_DIM \"+str(layer.input_shape[1])+\"\\n\")\n",
    "        f.write(\"#define \"+layer.name.upper()+\"_IN_CH \"+str(layer.input_shape[3])+\"\\n\")\n",
    "        f.write(\"#define \"+layer.name.upper()+\"_KER_DIM \"+str(layer.kernel_size[1])+\"\\n\")\n",
    "        f.write(\"#define \"+layer.name.upper()+\"_PAD \"+str(0)+\"\\n\")\n",
    "        f.write(\"#define \"+layer.name.upper()+\"_STRIDE \"+str(layer.strides[1])+\"\\n\")\n",
    "        f.write(\"#define \"+layer.name.upper()+\"_OUT_CH \"+str(layer.output_shape[3])+\"\\n\")\n",
    "        f.write(\"#define \"+layer.name.upper()+\"_OUT_DIM \"+str(layer.output_shape[2])+\"\\n\\n\") \n",
    "\n",
    "\n",
    "    elif layer.__class__.__name__=='MaxPooling2D':\n",
    "        f.write(\"#define \"+layer.name.upper()+\"_IN_DIM \"+str(layer.input_shape[1])+\"\\n\")\n",
    "        f.write(\"#define \"+layer.name.upper()+\"_IN_CH \"+str(layer.input_shape[3])+\"\\n\")\n",
    "        f.write(\"#define \"+layer.name.upper()+\"_KER_DIM \"+str(layer.pool_size[1])+\"\\n\")\n",
    "        f.write(\"#define \"+layer.name.upper()+\"_PAD \"+str(0)+\"\\n\")\n",
    "        f.write(\"#define \"+layer.name.upper()+\"_STRIDE \"+str(layer.strides[1])+\"\\n\")\n",
    "        f.write(\"#define \"+layer.name.upper()+\"_OUT_DIM \"+str(layer.output_shape[2])+\"\\n\\n\")\n",
    "    elif  layer.__class__.__name__=='Dense':\n",
    "        f.write(\"#define \"+layer.name.upper()+\"_DIM \"+str(layer.input_shape[1])+\"\\n\")\n",
    "        f.write(\"#define \"+layer.name.upper()+\"_OUT \"+str(layer.output_shape[1])+\"\\n\")\n",
    "        \n",
    "\n",
    "\n",
    "\n",
    "\n",
    "f.close()"
   ]
  },
  {
   "cell_type": "code",
   "execution_count": null,
   "metadata": {},
   "outputs": [],
   "source": []
  },
  {
   "cell_type": "code",
   "execution_count": 7,
   "metadata": {},
   "outputs": [
    {
     "name": "stdout",
     "output_type": "stream",
     "text": [
      "Generating file: keras-dnn.h\n"
     ]
    }
   ],
   "source": [
    "\n",
    "file_name = 'keras-dnn.h'\n",
    "print('Generating file: '+file_name)\n",
    "f=open(file_name,'w')\n",
    "f.write('\\\n",
    "#include \"keras-weights.h\"\\n\\\n",
    "#include \"keras-parameters.h\"\\n\\\n",
    "uint8_t run_nn(q7_t* input_data);\\n\\n\\\n",
    "')\n",
    "\n",
    "\n",
    "for layer in model.layers:\n",
    "    if layer.__class__.__name__=='Conv2D':\n",
    "        f.write(\"static q7_t \"+layer.name+\"_wt[\"+layer.name.upper()+\"_IN_CH*\"+layer.name.upper()+\"_KER_DIM*\"+\\\n",
    "                layer.name.upper()+\"_KER_DIM*\"+layer.name.upper()+\"_OUT_CH] = \"+layer.name.upper()+\"_WT;\\n\")\n",
    "        f.write(\"static q7_t \"+layer.name+\"_bias[\"+layer.name.upper()+\"_OUT_CH] = \"+layer.name.upper()+\"_BIAS;\\n\")\n",
    "    elif layer.__class__.__name__=='Dense':\n",
    "        f.write(\"static q7_t \"+layer.name+\"_wt[\"+layer.name.upper()+\"_DIM *\"+layer.name.upper()+\"_OUT\"+\\\n",
    "                \"] = \"+layer.name.upper()+\"_WT;\\n\" )\n",
    "        f.write(\"static q7_t \"+layer.name+\"_bias[\"+layer.name.upper()+\"_OUT] = \"+\\\n",
    "                layer.name.upper()+\"_BIAS;\\n\\n\")\n",
    "\n",
    "\n",
    "conv_Highest_in = 1\n",
    "conv_Highest_out = 1\n",
    "dense_Highest = 1\n",
    "pool_highest = 1\n",
    "\n",
    "for layer in model.layers[0:len(model.layers)]:\n",
    "    if \"conv\" in layer.name:        \n",
    "        y = 1\n",
    "        for x in layer.output_shape:\n",
    "            if x is not None:\n",
    "                y = y * x\n",
    "        if y > conv_Highest_out:\n",
    "            conv_Highest_out = y\n",
    "            \n",
    "        y = 1    \n",
    "        for x in layer.input_shape:\n",
    "            if x is not None:\n",
    "                y = y * x\n",
    "        if y > conv_Highest_in:\n",
    "            conv_Highest_in = y    \n",
    "            \n",
    "    if \"dense\"  in layer.name:\n",
    "        y = 1\n",
    "        for x in layer.input_shape:\n",
    "            if x is not None:\n",
    "                y = y * x\n",
    "        if y > dense_Highest:\n",
    "            dense_Highest = y\n",
    "            \n",
    "    if \"max_pooling\" in layer.name:\n",
    "        y = 1\n",
    "        for x in layer.output_shape:\n",
    "            if x is not None:\n",
    "                y = y * x\n",
    "        if y > pool_highest:\n",
    "            pool_highest = y\n",
    "            \n",
    "f.write('static q7_t conv_buffer_out['+str(conv_Highest_out)+'];\\n')\n",
    "f.write('static q15_t conv_buffer_in['+str(conv_Highest_in)+'];\\n')\n",
    "f.write('static q7_t pool_out['+str(pool_highest)+'];\\n')\n",
    "f.write('static q15_t dense_buffer['+str(dense_Highest)+'];\\n')\n",
    "f.write('static q7_t y_out[10];\\n\\n')\n",
    "\n",
    "\n",
    "lay = model.layers[0:len(model.layers)][0].name.upper()\n",
    "\n",
    "\n",
    "f.write('uint8_t run_nn(q7_t* input_data) {\\n')\n",
    "\n",
    "\n",
    "#input convolution need to be RGB -> Cifar images have 3 dim\n",
    "#Flag Input for the first layer\n",
    "Input = 1\n",
    "\n",
    "for layer in model.layers:\n",
    "    LAYER = layer.name.upper()\n",
    "    if layer.__class__.__name__=='Conv2D':\n",
    "        if Input == 1:\n",
    "            conv_func = 'arm_convolve_HWC_q7_RGB'\n",
    "            f.write('  '+conv_func+'(input_data'+', '+LAYER+'_IN_DIM, '+LAYER+\\\n",
    "                            '_IN_CH, '+LAYER.lower()+'_wt, '+LAYER+'_OUT_CH, '+LAYER+'_KER_DIM, '+LAYER+'_PAD, '\\\n",
    "                            +LAYER+'_STRIDE, '+LAYER.lower()+'_bias, '+LAYER+'_BIAS_LSHIFT, '+LAYER+'_OUT_RSHIFT, '\\\n",
    "                            +'conv_buffer_out, '+LAYER+'_OUT_DIM, conv_buffer_in, NULL);\\n')\n",
    "            f.write('  arm_relu_q7('+'conv_buffer_out'+', '+LAYER+'_OUT_DIM*'+LAYER+'_OUT_DIM*'+\\\n",
    "                   LAYER+'_OUT_CH);\\n')\n",
    "            Input = 0\n",
    "        else:\n",
    "            conv_func = 'arm_convolve_HWC_q7_fast'\n",
    "            f.write('  '+conv_func+'(pool_out'+', '+LAYER+'_IN_DIM, '+LAYER+\\\n",
    "                            '_IN_CH, '+LAYER.lower()+'_wt, '+LAYER+'_OUT_CH, '+LAYER+'_KER_DIM, '+LAYER+'_PAD, '\\\n",
    "                            +LAYER+'_STRIDE, '+LAYER.lower()+'_bias, '+LAYER+'_BIAS_LSHIFT, '+LAYER+'_OUT_RSHIFT, '\\\n",
    "                            +'conv_buffer_out, '+LAYER+'_OUT_DIM, conv_buffer_in, NULL);\\n')\n",
    "            f.write('  arm_relu_q7('+'pool_out'+', '+LAYER+'_OUT_DIM*'+LAYER+'_OUT_DIM*'+\\\n",
    "                   LAYER+'_OUT_CH);\\n')\n",
    "            \n",
    "    elif layer.__class__.__name__=='MaxPooling2D':\n",
    "        pool_func='arm_maxpool_q7_HWC'\n",
    "        f.write('  '+pool_func+'('+'conv_buffer_out'+', '+LAYER+'_IN_DIM, '+LAYER+'_IN_CH, '+\\\n",
    "            LAYER+'_KER_DIM, '+LAYER+'_PAD, '+LAYER+'_STRIDE, '+LAYER+'_OUT_DIM, NULL, '+\\\n",
    "            ' pool_out'+');\\n\\n')\n",
    "        \n",
    "    elif  layer.__class__.__name__=='Dense':\n",
    "        f.write('  arm_fully_connected_q7_opt(pool_out,'+LAYER.lower()+'_wt, '+LAYER+'_DIM, '+\\\n",
    "                LAYER+'_OUT, '+LAYER+'_BIAS_LSHIFT, '+\\\n",
    "                LAYER+'_OUT_RSHIFT, '+LAYER.lower()+'_bias, y_out, dense_buffer ) ;\\n')\n",
    "        f.write('  arm_softmax_q7(y_out, 10, y_out); \\n')\n",
    "\n",
    "\n",
    "f.write('  uint32_t index[1];\\n  q7_t result[1];\\n  uint32_t blockSize = sizeof(y_out);\\n'+\\\n",
    "        '  arm_max_q7(y_out, blockSize, result, index);\\n  return index[0];\\n'\n",
    "\n",
    "        )\n",
    "\n",
    "f.write('}')\n",
    "f.close()"
   ]
  },
  {
   "cell_type": "code",
   "execution_count": null,
   "metadata": {},
   "outputs": [],
   "source": []
  },
  {
   "cell_type": "code",
   "execution_count": null,
   "metadata": {},
   "outputs": [],
   "source": []
  }
 ],
 "metadata": {
  "kernelspec": {
   "display_name": "Python 3",
   "language": "python",
   "name": "python3"
  },
  "language_info": {
   "codemirror_mode": {
    "name": "ipython",
    "version": 3
   },
   "file_extension": ".py",
   "mimetype": "text/x-python",
   "name": "python",
   "nbconvert_exporter": "python",
   "pygments_lexer": "ipython3",
   "version": "3.8.6"
  }
 },
 "nbformat": 4,
 "nbformat_minor": 2
}
